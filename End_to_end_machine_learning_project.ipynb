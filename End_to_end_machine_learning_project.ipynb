{
  "nbformat": 4,
  "nbformat_minor": 0,
  "metadata": {
    "colab": {
      "provenance": [],
      "authorship_tag": "ABX9TyN/uKo6gn7z40KicaqbId89",
      "include_colab_link": true
    },
    "kernelspec": {
      "name": "python3",
      "display_name": "Python 3"
    },
    "language_info": {
      "name": "python"
    }
  },
  "cells": [
    {
      "cell_type": "markdown",
      "metadata": {
        "id": "view-in-github",
        "colab_type": "text"
      },
      "source": [
        "<a href=\"https://colab.research.google.com/github/rajarajeswarir/Hands-on-Machine-Learning/blob/main/End_to_end_machine_learning_project.ipynb\" target=\"_parent\"><img src=\"https://colab.research.google.com/assets/colab-badge.svg\" alt=\"Open In Colab\"/></a>"
      ]
    },
    {
      "cell_type": "markdown",
      "source": [
        "# End-to-End Machine learning Project"
      ],
      "metadata": {
        "id": "rU9TgFrXEW8X"
      }
    },
    {
      "cell_type": "code",
      "source": [],
      "metadata": {
        "id": "unSTG7gQEguV"
      },
      "execution_count": null,
      "outputs": []
    }
  ]
}